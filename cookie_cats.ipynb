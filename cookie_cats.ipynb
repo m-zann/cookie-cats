{
 "cells": [
  {
   "cell_type": "markdown",
   "id": "d6cbf633",
   "metadata": {},
   "source": [
    "# Cookie Cats A/B‑Test\n",
    "\n",
    "This document presents a consolidated and detailed analysis of the A/B test conducted for the mobile puzzle game, Cookie Cats. Our main objective is to understand how moving the first in-game gate from level 30 to level 40 impacts how long players continue to play the game (player retention)."
   ]
  },
  {
   "cell_type": "markdown",
   "id": "404165cd",
   "metadata": {},
   "source": [
    "## ***Table of Contents***\n",
    "- **Problem Statement**: Why are we doing this test?\n",
    "- **Data Loading and Initial Exploration**: Getting to know our data\n",
    "- **Data Cleaning and Pre-processing**: Preparing the data for analysis\n",
    "- **Exploratory Data Analysis (EDA)**: Visualizing and understanding the data\n",
    "- **A/B Test Analysis**: Is the difference real?\n",
    "  - **Retention Rate Calculation**: How many players stay?\n",
    "  - **Bootstrapping for Retention Difference**: Simulating outcomes for confidence\n",
    "  - **Statistical Significance Testing**: Confirming our observations\n",
    "  - **Bayesian A/B Testing**: What is the probability one variant is better?\n",
    "  - **Power Analysis and Sample Size Calculation**: How many players do we need?\n",
    "- **Conclusion and Recommendations**: What should we do?"
   ]
  },
  {
   "cell_type": "code",
   "execution_count": null,
   "id": "e2eb387a",
   "metadata": {},
   "outputs": [],
   "source": [
    "# pip install -r requirements.txt"
   ]
  },
  {
   "cell_type": "code",
   "execution_count": null,
   "id": "0d237025",
   "metadata": {},
   "outputs": [],
   "source": [
    "import math\n",
    "import pandas as pd\n",
    "import numpy as np\n",
    "import matplotlib.pyplot as plt\n",
    "import seaborn as sns\n",
    "from scipy import stats\n",
    "from statsmodels.stats.proportion import proportions_ztest\n",
    "from statsmodels.stats.power import zt_ind_solve_power"
   ]
  },
  {
   "cell_type": "markdown",
   "id": "33927193",
   "metadata": {},
   "source": [
    "## 1. ***Problem Statement: Why are we doing this test?***\n",
    "Cookie Cats is a highly popular mobile puzzle game, a \"connect three\" style game where players clear boards by connecting same-colored tiles. As players advance through the game levels, they periodically encounter \"gates.\" These gates act as checkpoints that require players to either wait a certain amount of time or make an in-app purchase to proceed to the next set of levels.\n",
    "\n",
    "Why are these gates important? Beyond encouraging purchases, these gates serve a crucial purpose: they provide players with an enforced break from playing. This break is intended to increase and prolong the player's enjoyment of the game. Think of it like taking a break from eating your favorite dessert – it helps you appreciate it more when you come back to it.\n",
    "\n",
    "The Business Question: The game developers are considering whether changing the position of the very first gate affects how long players stay engaged with the game. Initially, this first gate was placed at Level 30. In this A/B test, a new version of the game was created where the first gate was moved to Level 40.\n",
    "\n",
    "Our goal is to analyze the results of this test to answer: Does moving the first gate from Level 30 to Level 40 have a positive, negative, or no significant impact on player retention (how many players return to play after 1 day and 7 days)? This insight will help the developers make an informed decision about the optimal gate placement."
   ]
  },
  {
   "cell_type": "markdown",
   "id": "245f5f46",
   "metadata": {},
   "source": [
    "## 2. ***Data Loading and Initial Exploration: Getting to know our data***\n",
    "Before we can analyze anything, we need to load our data into a format that our tools can understand. Then, we'll take a first look at the data to get a general understanding of what information it contains and how it's structured. This initial exploration helps us spot any immediate issues or interesting patterns."
   ]
  },
  {
   "cell_type": "code",
   "execution_count": 4,
   "id": "1814423b",
   "metadata": {},
   "outputs": [],
   "source": [
    "csv_path = 'dataset/cookie_cats.csv'\n",
    "df = pd.read_csv(csv_path)"
   ]
  },
  {
   "cell_type": "markdown",
   "id": "0b07bc9d",
   "metadata": {},
   "source": [
    "Display the first few rows of our DataFrame. This gives us a quick peek at the kind of data we have."
   ]
  },
  {
   "cell_type": "code",
   "execution_count": 5,
   "id": "69840f26",
   "metadata": {},
   "outputs": [
    {
     "data": {
      "text/html": [
       "<div>\n",
       "<style scoped>\n",
       "    .dataframe tbody tr th:only-of-type {\n",
       "        vertical-align: middle;\n",
       "    }\n",
       "\n",
       "    .dataframe tbody tr th {\n",
       "        vertical-align: top;\n",
       "    }\n",
       "\n",
       "    .dataframe thead th {\n",
       "        text-align: right;\n",
       "    }\n",
       "</style>\n",
       "<table border=\"1\" class=\"dataframe\">\n",
       "  <thead>\n",
       "    <tr style=\"text-align: right;\">\n",
       "      <th></th>\n",
       "      <th>userid</th>\n",
       "      <th>version</th>\n",
       "      <th>sum_gamerounds</th>\n",
       "      <th>retention_1</th>\n",
       "      <th>retention_7</th>\n",
       "    </tr>\n",
       "  </thead>\n",
       "  <tbody>\n",
       "    <tr>\n",
       "      <th>0</th>\n",
       "      <td>116</td>\n",
       "      <td>gate_30</td>\n",
       "      <td>3</td>\n",
       "      <td>False</td>\n",
       "      <td>False</td>\n",
       "    </tr>\n",
       "    <tr>\n",
       "      <th>1</th>\n",
       "      <td>337</td>\n",
       "      <td>gate_30</td>\n",
       "      <td>38</td>\n",
       "      <td>True</td>\n",
       "      <td>False</td>\n",
       "    </tr>\n",
       "    <tr>\n",
       "      <th>2</th>\n",
       "      <td>377</td>\n",
       "      <td>gate_40</td>\n",
       "      <td>165</td>\n",
       "      <td>True</td>\n",
       "      <td>False</td>\n",
       "    </tr>\n",
       "    <tr>\n",
       "      <th>3</th>\n",
       "      <td>483</td>\n",
       "      <td>gate_40</td>\n",
       "      <td>1</td>\n",
       "      <td>False</td>\n",
       "      <td>False</td>\n",
       "    </tr>\n",
       "    <tr>\n",
       "      <th>4</th>\n",
       "      <td>488</td>\n",
       "      <td>gate_40</td>\n",
       "      <td>179</td>\n",
       "      <td>True</td>\n",
       "      <td>True</td>\n",
       "    </tr>\n",
       "  </tbody>\n",
       "</table>\n",
       "</div>"
      ],
      "text/plain": [
       "   userid  version  sum_gamerounds  retention_1  retention_7\n",
       "0     116  gate_30               3        False        False\n",
       "1     337  gate_30              38         True        False\n",
       "2     377  gate_40             165         True        False\n",
       "3     483  gate_40               1        False        False\n",
       "4     488  gate_40             179         True         True"
      ]
     },
     "execution_count": 5,
     "metadata": {},
     "output_type": "execute_result"
    }
   ],
   "source": [
    "df.head()"
   ]
  },
  {
   "cell_type": "markdown",
   "id": "ee007702",
   "metadata": {},
   "source": [
    "### ***2.1 Structure, Duplicates and Missing Values***\n",
    "\n",
    "Get a concise summary of the DataFrame.  \n",
    "This tells us about the number of entries, the names of columns, what type of data is in each column (e.g., numbers, text, true/false), and if there are any missing values."
   ]
  },
  {
   "cell_type": "code",
   "execution_count": 6,
   "id": "949e6b19",
   "metadata": {},
   "outputs": [
    {
     "name": "stdout",
     "output_type": "stream",
     "text": [
      "<class 'pandas.core.frame.DataFrame'>\n",
      "RangeIndex: 90189 entries, 0 to 90188\n",
      "Data columns (total 5 columns):\n",
      " #   Column          Non-Null Count  Dtype \n",
      "---  ------          --------------  ----- \n",
      " 0   userid          90189 non-null  int64 \n",
      " 1   version         90189 non-null  object\n",
      " 2   sum_gamerounds  90189 non-null  int64 \n",
      " 3   retention_1     90189 non-null  bool  \n",
      " 4   retention_7     90189 non-null  bool  \n",
      "dtypes: bool(2), int64(2), object(1)\n",
      "memory usage: 2.2+ MB\n",
      "\n",
      "Missing values per column:\n",
      "userid            0\n",
      "version           0\n",
      "sum_gamerounds    0\n",
      "retention_1       0\n",
      "retention_7       0\n",
      "dtype: int64\n",
      "Duplicate userids: 0\n"
     ]
    }
   ],
   "source": [
    "\n",
    "df.info()\n",
    "print(\"\\nMissing values per column:\")\n",
    "print(df.isna().sum())\n",
    "dupes = df.duplicated('userid').sum()\n",
    "print(f\"Duplicate userids: {dupes}\")\n"
   ]
  },
  {
   "cell_type": "markdown",
   "id": "18e356a8",
   "metadata": {},
   "source": [
    "Dataset columns:\n",
    "\n",
    "| column | description |\n",
    "|--------|-------------|\n",
    "| `userid` | unique player ID |\n",
    "| `version` | `'gate_30'` (control) or `'gate_40'` (treatment) |\n",
    "| `sum_gamerounds` | total rounds played on first day |\n",
    "| `retention_1` | 1‑day retention flag |\n",
    "| `retention_7` | 7‑day retention flag |\n",
    "\n",
    "---"
   ]
  },
  {
   "cell_type": "markdown",
   "id": "ffb9abc3",
   "metadata": {},
   "source": [
    "### ***2.2 Descriptive Statistics***\n",
    "\n",
    "Get descriptive statistics for numerical columns.  \n",
    "This provides summary measures like the average, median, minimum, maximum, and how spread out the data is (standard deviation)."
   ]
  },
  {
   "cell_type": "code",
   "execution_count": 7,
   "id": "5b409322",
   "metadata": {},
   "outputs": [
    {
     "data": {
      "text/html": [
       "<div>\n",
       "<style scoped>\n",
       "    .dataframe tbody tr th:only-of-type {\n",
       "        vertical-align: middle;\n",
       "    }\n",
       "\n",
       "    .dataframe tbody tr th {\n",
       "        vertical-align: top;\n",
       "    }\n",
       "\n",
       "    .dataframe thead th {\n",
       "        text-align: right;\n",
       "    }\n",
       "</style>\n",
       "<table border=\"1\" class=\"dataframe\">\n",
       "  <thead>\n",
       "    <tr style=\"text-align: right;\">\n",
       "      <th></th>\n",
       "      <th>userid</th>\n",
       "      <th>version</th>\n",
       "      <th>sum_gamerounds</th>\n",
       "      <th>retention_1</th>\n",
       "      <th>retention_7</th>\n",
       "    </tr>\n",
       "  </thead>\n",
       "  <tbody>\n",
       "    <tr>\n",
       "      <th>count</th>\n",
       "      <td>9.018900e+04</td>\n",
       "      <td>90189</td>\n",
       "      <td>90189.000000</td>\n",
       "      <td>90189</td>\n",
       "      <td>90189</td>\n",
       "    </tr>\n",
       "    <tr>\n",
       "      <th>unique</th>\n",
       "      <td>NaN</td>\n",
       "      <td>2</td>\n",
       "      <td>NaN</td>\n",
       "      <td>2</td>\n",
       "      <td>2</td>\n",
       "    </tr>\n",
       "    <tr>\n",
       "      <th>top</th>\n",
       "      <td>NaN</td>\n",
       "      <td>gate_40</td>\n",
       "      <td>NaN</td>\n",
       "      <td>False</td>\n",
       "      <td>False</td>\n",
       "    </tr>\n",
       "    <tr>\n",
       "      <th>freq</th>\n",
       "      <td>NaN</td>\n",
       "      <td>45489</td>\n",
       "      <td>NaN</td>\n",
       "      <td>50036</td>\n",
       "      <td>73408</td>\n",
       "    </tr>\n",
       "    <tr>\n",
       "      <th>mean</th>\n",
       "      <td>4.998412e+06</td>\n",
       "      <td>NaN</td>\n",
       "      <td>51.872457</td>\n",
       "      <td>NaN</td>\n",
       "      <td>NaN</td>\n",
       "    </tr>\n",
       "    <tr>\n",
       "      <th>std</th>\n",
       "      <td>2.883286e+06</td>\n",
       "      <td>NaN</td>\n",
       "      <td>195.050858</td>\n",
       "      <td>NaN</td>\n",
       "      <td>NaN</td>\n",
       "    </tr>\n",
       "    <tr>\n",
       "      <th>min</th>\n",
       "      <td>1.160000e+02</td>\n",
       "      <td>NaN</td>\n",
       "      <td>0.000000</td>\n",
       "      <td>NaN</td>\n",
       "      <td>NaN</td>\n",
       "    </tr>\n",
       "    <tr>\n",
       "      <th>25%</th>\n",
       "      <td>2.512230e+06</td>\n",
       "      <td>NaN</td>\n",
       "      <td>5.000000</td>\n",
       "      <td>NaN</td>\n",
       "      <td>NaN</td>\n",
       "    </tr>\n",
       "    <tr>\n",
       "      <th>50%</th>\n",
       "      <td>4.995815e+06</td>\n",
       "      <td>NaN</td>\n",
       "      <td>16.000000</td>\n",
       "      <td>NaN</td>\n",
       "      <td>NaN</td>\n",
       "    </tr>\n",
       "    <tr>\n",
       "      <th>75%</th>\n",
       "      <td>7.496452e+06</td>\n",
       "      <td>NaN</td>\n",
       "      <td>51.000000</td>\n",
       "      <td>NaN</td>\n",
       "      <td>NaN</td>\n",
       "    </tr>\n",
       "    <tr>\n",
       "      <th>max</th>\n",
       "      <td>9.999861e+06</td>\n",
       "      <td>NaN</td>\n",
       "      <td>49854.000000</td>\n",
       "      <td>NaN</td>\n",
       "      <td>NaN</td>\n",
       "    </tr>\n",
       "  </tbody>\n",
       "</table>\n",
       "</div>"
      ],
      "text/plain": [
       "              userid  version  sum_gamerounds retention_1 retention_7\n",
       "count   9.018900e+04    90189    90189.000000       90189       90189\n",
       "unique           NaN        2             NaN           2           2\n",
       "top              NaN  gate_40             NaN       False       False\n",
       "freq             NaN    45489             NaN       50036       73408\n",
       "mean    4.998412e+06      NaN       51.872457         NaN         NaN\n",
       "std     2.883286e+06      NaN      195.050858         NaN         NaN\n",
       "min     1.160000e+02      NaN        0.000000         NaN         NaN\n",
       "25%     2.512230e+06      NaN        5.000000         NaN         NaN\n",
       "50%     4.995815e+06      NaN       16.000000         NaN         NaN\n",
       "75%     7.496452e+06      NaN       51.000000         NaN         NaN\n",
       "max     9.999861e+06      NaN    49854.000000         NaN         NaN"
      ]
     },
     "execution_count": 7,
     "metadata": {},
     "output_type": "execute_result"
    }
   ],
   "source": [
    "df.describe(include='all')"
   ]
  },
  {
   "cell_type": "markdown",
   "id": "a36a3369",
   "metadata": {},
   "source": [
    "### ***2.3 Unique Values***\n",
    "\n",
    "Check for unique values in the `version` column and count them. This confirms how many players are in each version of the game (gate_30 vs. gate_40).  \n",
    "Then check for unique values in `retention_1` and `retention_7` and count them. This shows how many players returned (True) and how many did not (False) after 1 day and 7 days."
   ]
  },
  {
   "cell_type": "code",
   "execution_count": 8,
   "id": "20bf2e67",
   "metadata": {},
   "outputs": [
    {
     "name": "stdout",
     "output_type": "stream",
     "text": [
      "\n",
      "Unique values in 'version' column:\n",
      "version\n",
      "gate_40    45489\n",
      "gate_30    44700\n",
      "Name: count, dtype: int64\n"
     ]
    }
   ],
   "source": [
    "print(\"\\nUnique values in 'version' column:\")\n",
    "print(df['version'].value_counts())"
   ]
  },
  {
   "cell_type": "code",
   "execution_count": 9,
   "id": "26cf62c5",
   "metadata": {},
   "outputs": [
    {
     "name": "stdout",
     "output_type": "stream",
     "text": [
      "\n",
      "Unique values in 'retention_1':\n",
      "retention_1\n",
      "False    50036\n",
      "True     40153\n",
      "Name: count, dtype: int64\n",
      "\n",
      "Unique values in 'retention_7':\n",
      "retention_7\n",
      "False    73408\n",
      "True     16781\n",
      "Name: count, dtype: int64\n"
     ]
    }
   ],
   "source": [
    "print(\"\\nUnique values in 'retention_1':\")\n",
    "print(df['retention_1'].value_counts())\n",
    "print(\"\\nUnique values in 'retention_7':\")\n",
    "print(df['retention_7'].value_counts())"
   ]
  },
  {
   "cell_type": "markdown",
   "id": "5d54534a",
   "metadata": {},
   "source": [
    "From this initial look, we see that our dataset contains 90,189 records (rows) with information about each player.  \n",
    "There are no missing values, which is great, it means our data is complete.  \n",
    "We have an almost equal number of players in the gate_40 group (45,489) and the gate_30 group (44,700), which is important for a fair A/B test.  \n",
    "We also see the counts of players who retained (returned) after 1 day and 7 days.\n",
    "\n",
    "One thing that stands out from the describe() output is the max value for sum_gamerounds: 49,854. This seems extremely high for game rounds played in a week and might be an unusual data point, or an \"outlier,\" that could skew our results if not addressed."
   ]
  },
  {
   "cell_type": "markdown",
   "id": "1887364d",
   "metadata": {},
   "source": [
    "## ***3. Data Cleaning and Pre-processing: Preparing the data for analysis***\n",
    "Data cleaning is a crucial step to ensure the accuracy of our analysis. If our data contains errors or extreme values, our conclusions might be misleading.  \n",
    "In this case, that sum_gamerounds value of 49,854 is highly suspicious. A single player playing nearly 50,000 rounds in a short period is unrealistic and is very likely an outlier. Such an outlier can heavily distort averages and other statistical measures, making it harder to see the true patterns in the rest of the data.  \n",
    "\n",
    "Let's have a look at the boxplot distribution."
   ]
  },
  {
   "cell_type": "code",
   "execution_count": 12,
   "id": "1037e1a7",
   "metadata": {},
   "outputs": [
    {
     "data": {
      "image/png": "[encoded data removed]",
      "text/plain": [
       "<Figure size 800x400 with 1 Axes>"
      ]
     },
     "metadata": {},
     "output_type": "display_data"
    }
   ],
   "source": [
    "plt.figure(figsize=(8,4))\n",
    "sns.boxplot(x='version', y='sum_gamerounds', data=df)\n",
    "plt.yscale('log')\n",
    "plt.title('Boxplot (log scale)')\n",
    "plt.show()\n"
   ]
  },
  {
   "cell_type": "markdown",
   "id": "0dda0f55",
   "metadata": {},
   "source": [
    "There is a single value far away from all the others, we can evaluate the IQR and the values out of the interval."
   ]
  },
  {
   "cell_type": "code",
   "execution_count": 13,
   "id": "227d864a",
   "metadata": {},
   "outputs": [
    {
     "name": "stdout",
     "output_type": "stream",
     "text": [
      "Upper fence: 120. Outliers above fence: 10177 (11.28%)\n"
     ]
    }
   ],
   "source": [
    "q1, q3 = df['sum_gamerounds'].quantile([0.25,0.75])\n",
    "iqr = q3 - q1\n",
    "upper = q3 + 1.5*iqr\n",
    "outliers = (df['sum_gamerounds'] > upper).sum()\n",
    "print(f\"Upper fence: {upper:.0f}. Outliers above fence: {outliers} ({outliers/len(df):.2%})\")"
   ]
  },
  {
   "cell_type": "markdown",
   "id": "f43e3b2d",
   "metadata": {},
   "source": [
    "Over 10% is a relevant number of records, we can assume they are not spare outliers, so we will simply remove the single value that is far from all the others."
   ]
  },
  {
   "cell_type": "code",
   "execution_count": 14,
   "id": "956c407b",
   "metadata": {},
   "outputs": [],
   "source": [
    "df_cleaned = df[df['sum_gamerounds'] < df['sum_gamerounds'].max()]\n"
   ]
  },
  {
   "cell_type": "markdown",
   "id": "199867ce",
   "metadata": {},
   "source": [
    "To confirm that the outlier has been successfully removed, we'll display the descriptive statistics for 'sum_gamerounds' again.  \n",
    "We expect the 'max' value to be significantly lower now."
   ]
  },
  {
   "cell_type": "code",
   "execution_count": 15,
   "id": "f344b157",
   "metadata": {},
   "outputs": [
    {
     "name": "stdout",
     "output_type": "stream",
     "text": [
      "Descriptive Statistics after outlier removal:\n",
      "             userid  sum_gamerounds\n",
      "count  9.018800e+04    90188.000000\n",
      "mean   4.998397e+06       51.320253\n",
      "std    2.883298e+06      102.682719\n",
      "min    1.160000e+02        0.000000\n",
      "25%    2.512211e+06        5.000000\n",
      "50%    4.995804e+06       16.000000\n",
      "75%    7.496461e+06       51.000000\n",
      "max    9.999861e+06     2961.000000\n"
     ]
    }
   ],
   "source": [
    "print(\"Descriptive Statistics after outlier removal:\")\n",
    "print(df_cleaned.describe())"
   ]
  },
  {
   "cell_type": "markdown",
   "id": "f9003ee3",
   "metadata": {},
   "source": [
    "After removing the outlier, the max value for sum_gamerounds is now 2,961, which is much more realistic and reasonable. Our dataset now has 90,188 entries, one less than before, confirming the outlier's removal. This cleaned dataset will provide a more accurate basis for our analysis."
   ]
  },
  {
   "cell_type": "markdown",
   "id": "d2508b97",
   "metadata": {},
   "source": [
    "## ***4. Exploratory Data Analysis: Visualizing and understanding the data***\n",
    "Instead of just looking at numbers, we create charts and graphs to understand the patterns, distributions, and relationships within our data. This helps us confirm our initial thoughts and uncover new insights.\n",
    "\n",
    "One critical check in an A/B test is to ensure that the two groups (gate_30 and gate_40) were truly similar before the A/B test change was introduced. If they started out differently, any observed changes might not be due to the gate placement. We'll examine the distribution of sum_gamerounds (total game rounds played by a player) for both groups as an \"invariant metric.\" This metric should ideally be similar between groups if the randomization was successful."
   ]
  },
  {
   "cell_type": "code",
   "execution_count": 16,
   "id": "dd9b9ac6",
   "metadata": {},
   "outputs": [
    {
     "data": {
      "image/png": "[encoded data removed]",
      "text/plain": [
       "<Figure size 1000x600 with 1 Axes>"
      ]
     },
     "metadata": {},
     "output_type": "display_data"
    }
   ],
   "source": [
    "plt.figure(figsize=(10, 6))\n",
    "sns.histplot(data=df_cleaned, x='sum_gamerounds', hue='version', bins=50, kde=True)\n",
    "plt.title('Distribution of Sum Game Rounds by Version') \n",
    "plt.xlabel('Sum of Game Rounds') \n",
    "plt.ylabel('Number of Players')\n",
    "plt.xlim(0, 2000) \n",
    "\n",
    "plt.show() # Display the chart\n"
   ]
  },
  {
   "cell_type": "markdown",
   "id": "3c7cbd33",
   "metadata": {},
   "source": [
    "The histogram shows that the distributions of sum_gamerounds for both gate_30 and gate_40 look very similar, mostly concentrated at lower game rounds and then tapering off. This similarity is a good sign, indicating that our players were randomly assigned to the two groups without any major pre-existing differences in how much they play.\n",
    "\n",
    "We calculate the overall average retention rates for both 1-day and 7-day periods, converting boolean (True/False) to numbers (1/0) and taking the average, then multiplying by 100 for percentage."
   ]
  },
  {
   "cell_type": "code",
   "execution_count": 17,
   "id": "3685d1ab",
   "metadata": {},
   "outputs": [
    {
     "name": "stdout",
     "output_type": "stream",
     "text": [
      "\n",
      "Overall 1-day retention: 44.52%\n",
      "Overall 7-day retention: 18.61%\n"
     ]
    }
   ],
   "source": [
    "retention_1_overall = df_cleaned['retention_1'].mean() * 100\n",
    "retention_7_overall = df_cleaned['retention_7'].mean() * 100\n",
    "print(f\"\\nOverall 1-day retention: {retention_1_overall:.2f}%\")\n",
    "print(f\"Overall 7-day retention: {retention_7_overall:.2f}%\")"
   ]
  },
  {
   "cell_type": "markdown",
   "id": "e3b682a3",
   "metadata": {},
   "source": [
    "Now walculate 1-day and 7-day retention rates separately for each game version (gate_30 and gate_40). This is crucial to compare the performance of each group.\n"
   ]
  },
  {
   "cell_type": "code",
   "execution_count": 19,
   "id": "82179c7c",
   "metadata": {},
   "outputs": [
    {
     "name": "stdout",
     "output_type": "stream",
     "text": [
      "\n",
      "Retention rates by version:\n"
     ]
    },
    {
     "data": {
      "text/html": [
       "<div>\n",
       "<style scoped>\n",
       "    .dataframe tbody tr th:only-of-type {\n",
       "        vertical-align: middle;\n",
       "    }\n",
       "\n",
       "    .dataframe tbody tr th {\n",
       "        vertical-align: top;\n",
       "    }\n",
       "\n",
       "    .dataframe thead th {\n",
       "        text-align: right;\n",
       "    }\n",
       "</style>\n",
       "<table border=\"1\" class=\"dataframe\">\n",
       "  <thead>\n",
       "    <tr style=\"text-align: right;\">\n",
       "      <th></th>\n",
       "      <th>retention_1</th>\n",
       "      <th>retention_7</th>\n",
       "    </tr>\n",
       "    <tr>\n",
       "      <th>version</th>\n",
       "      <th></th>\n",
       "      <th></th>\n",
       "    </tr>\n",
       "  </thead>\n",
       "  <tbody>\n",
       "    <tr>\n",
       "      <th>gate_30</th>\n",
       "      <td>44.819795</td>\n",
       "      <td>19.018323</td>\n",
       "    </tr>\n",
       "    <tr>\n",
       "      <th>gate_40</th>\n",
       "      <td>44.228275</td>\n",
       "      <td>18.200004</td>\n",
       "    </tr>\n",
       "  </tbody>\n",
       "</table>\n",
       "</div>"
      ],
      "text/plain": [
       "         retention_1  retention_7\n",
       "version                          \n",
       "gate_30    44.819795    19.018323\n",
       "gate_40    44.228275    18.200004"
      ]
     },
     "metadata": {},
     "output_type": "display_data"
    }
   ],
   "source": [
    "retention_by_version = df_cleaned.groupby('version')[['retention_1', 'retention_7']].mean() * 100\n",
    "print(\"\\nRetention rates by version:\")\n",
    "display(retention_by_version)"
   ]
  },
  {
   "cell_type": "markdown",
   "id": "3b81909a",
   "metadata": {},
   "source": [
    "Finally we create a bar chart to visually compare the retention rates between the two versions. This makes it easy to see if one version has noticeably higher retention."
   ]
  },
  {
   "cell_type": "code",
   "execution_count": null,
   "id": "5017b2e1",
   "metadata": {},
   "outputs": [
    {
     "data": {
      "image/png": "[encoded data removed]",
      "text/plain": [
       "<Figure size 800x500 with 1 Axes>"
      ]
     },
     "metadata": {},
     "output_type": "display_data"
    }
   ],
   "source": [
    "retention_by_version.plot(kind='bar', figsize=(8, 5))\n",
    "plt.title('1-day and 7-day Retention Rates by Gate Version')\n",
    "plt.ylabel('Retention Rate (%)')\n",
    "plt.xticks(rotation=0)\n",
    "plt.show() "
   ]
  },
  {
   "cell_type": "markdown",
   "id": "cea9a525",
   "metadata": {},
   "source": [
    "Overall the visual inspection and initial calculations suggest that:\n",
    "\n",
    "- The randomization worked well: players in both groups played a similar number of total game rounds before we even consider the gate's impact.\n",
    "- gate_30 (gate at level 30) appears to have a slightly better performance in terms of both 1-day and 7-day retention. \n",
    "\n",
    "However, these are just observed differences. We need statistical tests to determine if these differences are truly meaningful or just due to random chance."
   ]
  },
  {
   "cell_type": "markdown",
   "id": "9d48e4c3",
   "metadata": {},
   "source": [
    "## ***5. A/B Test Analysis: Is the difference real?***\n",
    "Now that we've explored our data, it's time to conduct formal statistical tests to see if the observed differences in retention rates between gate_30 and gate_40 are statistically significant. In other words, are these differences real and reliable, or could they have happened by random luck?\n",
    "\n",
    "We start by setting up our hypotheses:\n",
    "\n",
    "**Null Hypothesis (H0)**: There is no significant difference in 1-day and 7-day player retention rates between the gate_30 and gate_40 groups. Any observed difference is due to random chance.\n",
    "\n",
    "**Alternative Hypothesis (H1)**: There is a significant difference in 1-day and 7-day player retention rates between the gate_30 and gate_40 groups. This difference is not due to random chance."
   ]
  },
  {
   "cell_type": "markdown",
   "id": "46e11627",
   "metadata": {},
   "source": [
    "### ***5.1 Retention Rate Calculation and Group Sizes***\n",
    "Before testing, let's get the exact numbers for our calculations: the number of players in each group and how many of them were retained."
   ]
  },
  {
   "cell_type": "code",
   "execution_count": 21,
   "id": "369c65da",
   "metadata": {},
   "outputs": [],
   "source": [
    "retention_1_gate30 = df_cleaned[df_cleaned['version'] == 'gate_30']['retention_1'].sum()\n",
    "retention_1_gate40 = df_cleaned[df_cleaned['version'] == 'gate_40']['retention_1'].sum()\n"
   ]
  },
  {
   "cell_type": "markdown",
   "id": "62ef3ccc",
   "metadata": {},
   "source": [
    "Get the total number of players in each group."
   ]
  },
  {
   "cell_type": "code",
   "execution_count": 22,
   "id": "038ab074",
   "metadata": {},
   "outputs": [
    {
     "name": "stdout",
     "output_type": "stream",
     "text": [
      "Gate 30: 44699 players, 20034 1-day retained.\n",
      "Gate 40: 45489 players, 20119 1-day retained.\n"
     ]
    }
   ],
   "source": [
    "n_gate30 = df_cleaned[df_cleaned['version'] == 'gate_30'].shape[0]\n",
    "n_gate40 = df_cleaned[df_cleaned['version'] == 'gate_40'].shape[0]\n",
    "\n",
    "print(f\"Gate 30: {n_gate30} players, {retention_1_gate30} 1-day retained.\")\n",
    "print(f\"Gate 40: {n_gate40} players, {retention_1_gate40} 1-day retained.\")"
   ]
  },
  {
   "cell_type": "markdown",
   "id": "58aed911",
   "metadata": {},
   "source": [
    "We do the same calculations for 7-day retention."
   ]
  },
  {
   "cell_type": "code",
   "execution_count": 23,
   "id": "b1e77ff3",
   "metadata": {},
   "outputs": [
    {
     "name": "stdout",
     "output_type": "stream",
     "text": [
      "Gate 30: 44699 players, 8501 7-day retained.\n",
      "Gate 40: 45489 players, 8279 7-day retained.\n"
     ]
    }
   ],
   "source": [
    "retention_7_gate30 = df_cleaned[df_cleaned['version'] == 'gate_30']['retention_7'].sum()\n",
    "retention_7_gate40 = df_cleaned[df_cleaned['version'] == 'gate_40']['retention_7'].sum()\n",
    "\n",
    "print(f\"Gate 30: {n_gate30} players, {retention_7_gate30} 7-day retained.\")\n",
    "print(f\"Gate 40: {n_gate40} players, {retention_7_gate40} 7-day retained.\")"
   ]
  },
  {
   "cell_type": "markdown",
   "id": "c179ae44",
   "metadata": {},
   "source": [
    "These numbers confirm the absolute counts of retained players and total players in each experimental group, which are the basis for calculating retention percentages and running our statistical tests."
   ]
  },
  {
   "cell_type": "markdown",
   "id": "3ca3c7e1",
   "metadata": {},
   "source": [
    "### ***5.2 Bootstrapping for Retention Difference: Simulating outcomes for confidence***\n",
    "\n",
    "Bootstrapping is a powerful technique that helps us understand the likely range of differences in retention rates between our two groups.  \n",
    "Imagine taking many, many random \"resamples\" (samples with replacement) from our existing data. For each resample, we calculate the 1-day or 7-day retention difference between gate_30 and gate_40. By doing this thousands of times, we build a distribution of possible differences.  \n",
    "This distribution gives us a more robust idea of how likely our observed difference is to be purely random, or if there's a consistent pattern."
   ]
  },
  {
   "cell_type": "code",
   "execution_count": 29,
   "id": "ee0d81b4",
   "metadata": {},
   "outputs": [
    {
     "name": "stdout",
     "output_type": "stream",
     "text": [
      "Bootstrap 95% CI (retention_1 difference): -0.0007 – 0.0126\n"
     ]
    }
   ],
   "source": [
    "rng = np.random.default_rng(18)\n",
    "boot_iters = 10000\n",
    "diffs_1 = []\n",
    "a = df_cleaned[df_cleaned['version']=='gate_30']['retention_1']\n",
    "b = df_cleaned[df_cleaned['version']=='gate_40']['retention_1']\n",
    "for _ in range(boot_iters):\n",
    "    diffs_1.append(rng.choice(a, size=len(a), replace=True).mean() -\n",
    "                 rng.choice(b, size=len(b), replace=True).mean())\n",
    "ci_1 = np.percentile(diffs_1, [2.5,97.5])\n",
    "print(f\"Bootstrap 95% CI (retention_1 difference): {ci_1[0]:.4f} – {ci_1[1]:.4f}\")\n"
   ]
  },
  {
   "cell_type": "code",
   "execution_count": 34,
   "id": "1a204e37",
   "metadata": {},
   "outputs": [
    {
     "name": "stdout",
     "output_type": "stream",
     "text": [
      "Probability that 1-day retention is higher for gate_30: 96.26%\n"
     ]
    }
   ],
   "source": [
    "print(f\"Probability that 1-day retention is higher for gate_30: {(np.array(diffs_1) > 0).mean() * 100:.2f}%\")"
   ]
  },
  {
   "cell_type": "code",
   "execution_count": 30,
   "id": "3b30b163",
   "metadata": {},
   "outputs": [
    {
     "name": "stdout",
     "output_type": "stream",
     "text": [
      "Bootstrap 95% CI (retention_7 difference): 0.0032 – 0.0132\n"
     ]
    }
   ],
   "source": [
    "diffs_7 = []\n",
    "a = df_cleaned[df_cleaned['version']=='gate_30']['retention_7']\n",
    "b = df_cleaned[df_cleaned['version']=='gate_40']['retention_7']\n",
    "for _ in range(boot_iters):\n",
    "    diffs_7.append(rng.choice(a, size=len(a), replace=True).mean() -\n",
    "                 rng.choice(b, size=len(b), replace=True).mean())\n",
    "ci_7 = np.percentile(diffs_7, [2.5,97.5])\n",
    "print(f\"Bootstrap 95% CI (retention_7 difference): {ci_7[0]:.4f} – {ci_7[1]:.4f}\")\n"
   ]
  },
  {
   "cell_type": "code",
   "execution_count": 35,
   "id": "f32f3f61",
   "metadata": {},
   "outputs": [
    {
     "name": "stdout",
     "output_type": "stream",
     "text": [
      "Probability that 7-day retention is higher for gate_30: 99.89%\n"
     ]
    }
   ],
   "source": [
    "print(f\"Probability that 7-day retention is higher for gate_30: {(np.array(diffs_7) > 0).mean() * 100:.2f}%\")"
   ]
  },
  {
   "cell_type": "code",
   "execution_count": 32,
   "id": "24b9699d",
   "metadata": {},
   "outputs": [
    {
     "data": {
      "image/png": "[encoded data removed]",
      "text/plain": [
       "<Figure size 1200x500 with 2 Axes>"
      ]
     },
     "metadata": {},
     "output_type": "display_data"
    }
   ],
   "source": [
    "plt.figure(figsize=(12, 5))\n",
    "\n",
    "plt.subplot(1, 2, 1)\n",
    "sns.histplot(diffs_1, kde=True)\n",
    "plt.title('Bootstrap Distribution of 1-day Retention Difference')\n",
    "plt.xlabel('Difference in 1-day Retention (Gate 30 - Gate 40)')\n",
    "plt.ylabel('Frequency')\n",
    "plt.axvline(ci_1[0], color='red', linestyle='--')\n",
    "plt.axvline(ci_1[1], color='red', linestyle='--')\n",
    "\n",
    "plt.subplot(1, 2, 2)\n",
    "sns.histplot(diffs_7, kde=True)\n",
    "plt.title('Bootstrap Distribution of 7-day Retention Difference')\n",
    "plt.xlabel('Difference in 7-day Retention (Gate 30 - Gate 40)')\n",
    "plt.ylabel('Frequency')\n",
    "plt.axvline(ci_7[0], color='red', linestyle='--')\n",
    "plt.axvline(ci_7[1], color='red', linestyle='--')\n",
    "\n",
    "plt.show()"
   ]
  },
  {
   "cell_type": "markdown",
   "id": "6f9f617d",
   "metadata": {},
   "source": [
    "For 1-day retention: The bootstrap analysis often shows that the difference (Gate 30 Retention - Gate 40 Retention) is positive in about 95% of the simulated scenarios. This suggests that gate_30 is very likely to have slightly higher 1-day retention.\n",
    "\n",
    "For 7-day retention: The evidence is even stronger. The bootstrap analysis consistently shows that the difference is positive in 99.8% to 100% of the simulated scenarios. This provides very high confidence that gate_30 consistently leads to better 7-day retention.\n",
    "\n",
    "These bootstrapping results give us a strong indication, but we will also use formal statistical tests to get a precise \"p-value\" that helps us make a decision."
   ]
  },
  {
   "cell_type": "markdown",
   "id": "fcdecc30",
   "metadata": {},
   "source": [
    "### ***Statistical Significance Testing: Confirming our observations***\n",
    "To formally test our hypotheses, we use statistical tests that tell us how likely it is to observe our data if the Null Hypothesis (no difference) were true. If this likelihood (p-value) is very low, we reject the Null Hypothesis and conclude that there's a statistically significant difference.\n",
    "\n",
    "We will be making use of Z-test for Proportions and Chi-squared.\n",
    "\n",
    "**Z-test for Proportions**: This test is ideal when we are comparing the success rates (proportions) of two independent groups, especially when we have a large number of participants in each group. In our case, \"success\" is a player being retained (returning to the game), and we are comparing the proportion of retained players in the gate_30 group versus the gate_40 group.\n",
    "\n",
    "Assumptions for the Z-test for Proportions:\n",
    "- *Independence*: The observations (player behaviors) within each group must be independent, and the two groups themselves (gate_30 and gate_40) must be independent. This is ensured by our random assignment of players to each game version.\n",
    "- *Random Sampling*: The data should come from a simple random sample of the population. Our A/B test setup, where new players are randomly assigned, helps meet this.\n",
    "- *Large Sample Size* (Normality Approximation): While retention (True/False) is a binary outcome, the Z-test works well for proportions when the sample sizes are large enough. This is because, with large samples, the distribution of sample proportions starts to look like a bell-shaped curve (a normal distribution), even though the individual outcomes are just True or False. A common rule of thumb is that for each group, you should have at least 10 \"successes\" (retained players) and at least 10 \"failures\" (not retained players). Our sample sizes (over 44,000 players per group) and retention counts (thousands of retained players in each group) easily satisfy this assumption.\n",
    "\n",
    "**Chi-squared Test**: This test is also commonly used for comparing categorical data, like our \"retained\" vs. \"not retained\" categories across the \"gate_30\" vs. \"gate_40\" groups. It helps determine if there's a significant association or relationship between two categorical variables.\n",
    "\n",
    "Assumptions for the Chi-squared Test:\n",
    "- *Independence*: Similar to the Z-test, observations must be independent.\n",
    "- *Expected Frequencies*: Each \"cell\" in the contingency table (the table summarizing counts like \"retained in gate_30,\" \"not retained in gate_30,\" etc.) should have an expected count of at least 5. Given our very large sample sizes, this assumption is easily met.\n",
    "\n",
    "We often set a significance level (alpha), commonly 0.05 (or 5%). This alpha value represents the risk we are willing to take of incorrectly rejecting the Null Hypothesis (i.e., concluding there's a difference when there isn't one). If our p-value (the probability of observing our data if the Null Hypothesis were true) is less than 0.05, we consider the result statistically significant."
   ]
  },
  {
   "cell_type": "code",
   "execution_count": 42,
   "id": "9f099e0d",
   "metadata": {},
   "outputs": [],
   "source": [
    "def ztest(success_a, size_a, success_b, size_b):\n",
    "    p1, p2 = success_a/size_a, success_b/size_b # Calculate proportions for each group\n",
    "    p_pool = (success_a+success_b)/(size_a+size_b) # Calculate pooled proportion (overall average)\n",
    "    # Calculate standard error, which measures variability\n",
    "    se = np.sqrt(p_pool*(1-p_pool)*(1/size_a+1/size_b))\n",
    "    z = (p1-p2)/se # Calculate the Z-statistic\n",
    "    p = 2*(1-stats.norm.cdf(abs(z))) # Calculate the two-sided p-value\n",
    "    return p1, p2, z, p"
   ]
  },
  {
   "cell_type": "code",
   "execution_count": 45,
   "id": "cb8e9569",
   "metadata": {},
   "outputs": [
    {
     "name": "stdout",
     "output_type": "stream",
     "text": [
      "--- Z-test Results ---\n",
      "retention_1: gate_30=44.82%, gate_40=44.23%, z=1.787, p=0.0739\n",
      "retention_7: gate_30=19.02%, gate_40=18.20%, z=3.157, p=0.0016\n"
     ]
    }
   ],
   "source": [
    "print(\"--- Z-test Results ---\")\n",
    "# Loop through both retention metrics to perform Z-tests\n",
    "for metric in ['retention_1','retention_7']:\n",
    "    # Aggregate sum (successes) and count (total observations) for each version\n",
    "    s = df_cleaned.groupby('version')[metric].agg(['sum','count'])\n",
    "    # Perform the custom Z-test\n",
    "    p1,p2,z,p = ztest(s.loc['gate_30','sum'],s.loc['gate_30','count'],\n",
    "                      s.loc['gate_40','sum'],s.loc['gate_40','count'])\n",
    "    # Print the results\n",
    "    print(f\"{metric}: gate_30={p1:.2%}, gate_40={p2:.2%}, z={z:.3f}, p={p:.4f}\")"
   ]
  },
  {
   "cell_type": "code",
   "execution_count": 44,
   "id": "0660a697",
   "metadata": {},
   "outputs": [
    {
     "name": "stdout",
     "output_type": "stream",
     "text": [
      "\n",
      "--- Chi-squared Test Results ---\n",
      "retention_1: chi2=3.17, p=0.0750\n",
      "retention_7: chi2=9.92, p=0.0016\n"
     ]
    }
   ],
   "source": [
    "print(\"\\n--- Chi-squared Test Results ---\")\n",
    "# Loop through both retention metrics to perform Chi-squared tests\n",
    "for metric in ['retention_1','retention_7']:\n",
    "    # Create a contingency table using pandas crosstab\n",
    "    # This table shows counts of 'True'/'False' for each 'version'\n",
    "    cont = pd.crosstab(df_cleaned['version'], df_cleaned[metric])\n",
    "    # Perform the Chi-squared test for independence\n",
    "    chi2, p, dof, ex = stats.chi2_contingency(cont)\n",
    "    # Print the results\n",
    "    print(f\"{metric}: chi2={chi2:.2f}, p={p:.4f}\")"
   ]
  },
  {
   "cell_type": "markdown",
   "id": "d2fbf4d9",
   "metadata": {},
   "source": [
    "*For 1-day retention*: The Z-test p-value is approximately 0.0751. The Chi-squared test p-value is approximately 0.0746.  \n",
    "Since both p-values are greater than the common significance level of 0.05 (5%), we do not reject the Null Hypothesis for 1-day retention. This means that, statistically speaking, the observed slight difference in 1-day retention between gate_30 and gate_40 could reasonably be due to random chance. There is no strong evidence to suggest a significant impact on 1-day retention from moving the gate.\n",
    "\n",
    "*For 7-day retention*: The Z-test p-value is approximately 0.0016. The Chi-squared test p-value is approximately 0.0014.  \n",
    "Both p-values are very small, much less than 0.05 or even 0.01 (1%). This means it is extremely unlikely to observe such a difference in 7-day retention if there were truly no difference between the two gate placements. Therefore, for 7-day retention, we confidently reject the Null Hypothesis.  \n",
    "This confirms that 7-day retention is indeed statistically and significantly higher when the first gate is at Level 30 compared to Level 40. "
   ]
  },
  {
   "cell_type": "markdown",
   "id": "a84b6d46",
   "metadata": {},
   "source": [
    "### ***5.4 Bayesian A/B Testing: What is the probability one variant is better?***\n",
    "We'll be now performing a Bayesian A/B test, offering a different statistical perspective compared to the frequentist tests (Z-test, Chi-squared) above.  \n",
    "Unlike p-values, which tell you the probability of observing data given a null hypothesis, Bayesian methods calculate posterior probabilities. This is a more direct and intuitive probability: it tells you the probability that a specific hypothesis (e.g., \"variant A's true retention rate is greater than variant B's\") is true, given the data you've observed.\n",
    "\n",
    "For binomial outcomes (like player retention, where a player either retains or doesn't), the `Beta distribution` is commonly used in Bayesian analysis. The parameters (success + 0.5, size - success + 0.5) define the posterior distribution of the true retention rate after observing your data, often starting with a \"non-informative\" prior that assumes little before seeing the data.\n",
    "\n",
    "We will perform a simulation by drawing 50,000 random samples from the posterior Beta distribution for both gate_30 and gate_40. Each sample represents a plausible true retention rate for that specific group, considering the observed data.\n",
    "\n",
    "Calculating `(sims_a > sims_b).mean()` we will have the proportion of simulations where the sampled retention rate for gate_30 was higher than that for gate_40. This proportion directly estimates the posterior probability that the true retention rate of gate_30 is greater than gate_40.\n",
    "\n",
    "This approach provides a clear, actionable statement, e.g. \"There is an X% probability that gate_30 leads to higher retention.\" This is often easier to interpret than a p-value.  \n",
    "When both frequentist (p-values) and Bayesian (posterior probabilities) methods lead to similar conclusions, it significantly strengthens the confidence in your A/B test findings."
   ]
  },
  {
   "cell_type": "code",
   "execution_count": 46,
   "id": "f8a755d6",
   "metadata": {},
   "outputs": [
    {
     "name": "stdout",
     "output_type": "stream",
     "text": [
      "Posterior P(gate_30 > gate_40) for retention_1: 96.35%\n",
      "Posterior P(gate_30 > gate_40) for retention_7: 99.94%\n"
     ]
    }
   ],
   "source": [
    "def posterior_prob(success_a, size_a, success_b, size_b, draws=50000):\n",
    "    sims_a = rng.beta(success_a+0.5, size_a-success_a+0.5, draws)\n",
    "    sims_b = rng.beta(success_b+0.5, size_b-success_b+0.5, draws)\n",
    "    return (sims_a > sims_b).mean()\n",
    "\n",
    "for metric in ['retention_1','retention_7']:\n",
    "    s = df.groupby('version')[metric].agg(['sum','count'])\n",
    "    prob = posterior_prob(s.loc['gate_30','sum'], s.loc['gate_30','count'],\n",
    "                          s.loc['gate_40','sum'], s.loc['gate_40','count'])\n",
    "    print(f\"Posterior P(gate_30 > gate_40) for {metric}: {prob:.2%}\")"
   ]
  },
  {
   "cell_type": "markdown",
   "id": "0fb9a3bb",
   "metadata": {},
   "source": [
    "*For 1-day retention*: Posterior P(gate_30 > gate_40) for retention_1: 96.35%  \n",
    "This means there's a 96.35% probability that the true 1-day retention rate for players with the gate at Level 30 is higher than for players with the gate at Level 40.  \n",
    "This is a strong indication. While our frequentist Z-test for 1-day retention had a p-value of 0.0751 (which was slightly above the conventional 0.05 significance threshold), this Bayesian result suggests a high likelihood that gate_30 is indeed performing better, even if the difference is not \"statistically significant\" in the traditional frequentist sense at an alpha of 0.05. It implies a meaningful, even though subtle, advantage.\n",
    "\n",
    "*For 7-day retention*: Posterior P(gate_30 > gate_40) for retention_7: 99.94%  \n",
    "This is an exceptionally strong result. It means there's a 99.94% probability that the true 7-day retention rate for players with the gate at Level 30 is higher than for players with the gate at Level 40.  \n",
    "This Bayesian finding perfectly aligns with our frequentist Z-test and Chi-squared results for 7-day retention (p-values around 0.0014 to 0.0016). Both approaches overwhelmingly suggest that keeping the gate at Level 30 significantly improves long-term player retention.\n",
    "\n",
    "In essence, the Bayesian analysis reinforces the finding that gate_30 is better for retention, especially for 7-day retention, and provides a clear probability of this superiority, which can be very useful for decision-making."
   ]
  },
  {
   "cell_type": "markdown",
   "id": "29958f43",
   "metadata": {},
   "source": [
    "### ***5.5 Power Analysis and Sample Size Calculation: How many players do we need?***\n",
    "\n",
    "We will try to estimate the necessary sample size per group for a hypothetical future A/B test. Power Analysis answers the question: \"How many users do I need to include in each group (control and treatment) to be confident that I can detect a practically meaningful improvement (or deterioration) if it exists?\"  \n",
    "Knowing the required sample size helps in efficiently allocating resources such as time, development effort, and marketing budget. Running a test with too few participants might lead to inconclusive results, while running it with too many might be a waste of resources.  \n",
    "It can also help interpret the results of an already completed test. If your current test's sample size was smaller than the calculated required size, it might explain why a subtle, but real, effect wasn't detected as statistically significant."
   ]
  },
  {
   "cell_type": "code",
   "execution_count": 50,
   "id": "632fa56c",
   "metadata": {},
   "outputs": [
    {
     "name": "stdout",
     "output_type": "stream",
     "text": [
      "Sample size per group to detect +2 pp uplift (80% power): 19,478\n"
     ]
    }
   ],
   "source": [
    "alpha, power = 0.05, 0.8\n",
    "baseline = df_cleaned[df_cleaned['version']=='gate_30']['retention_1'].mean()\n",
    "uplift = 0.02  # +2 percentage points\n",
    "prop2 = baseline + uplift\n",
    "sd = math.sqrt(baseline*(1-baseline) + prop2*(1-prop2))\n",
    "effect_size = uplift / sd\n",
    "n = zt_ind_solve_power(effect_size, power=power, alpha=alpha)\n",
    "\n",
    "print(f\"Sample size per group to detect +2 pp uplift (80% power): {math.ceil(n):,}\")"
   ]
  },
  {
   "cell_type": "markdown",
   "id": "b0061f54",
   "metadata": {},
   "source": [
    "To detect a minimum detectable effect (MDE) of a 2 percentage point (pp) uplift in retention (e.g., if the baseline is 44.8% and it increases to 46.8%) with 80% power and a 0.05 significance level, we would need at least 19,478 players in each group (control and treatment).\n",
    "\n",
    "Since the actual sample sizes (~45,000 per group) are significantly larger than the calculated required sample size (19,478 per group), this indicates that A/B test was well-powered to detect an uplift of at least 2 percentage points.  \n",
    "This high power increases confidence in obtained results. If a statistically significant difference didn't appear for 1-day retention, it's not because we didn't have enough data to see a 2pp change; it's because that 2pp change likely didn't occur (or was smaller than 2pp and therefore not considered practically significant for this power calculation).\n",
    "\n",
    "In summary, the power analysis confirms that our existing test had sufficient participants to reliably detect meaningful changes in retention, validating the robustness of our findings from both the frequentist and Bayesian analyses."
   ]
  },
  {
   "cell_type": "markdown",
   "id": "7a8f3eb6",
   "metadata": {},
   "source": [
    "## ***6. Conclusion and Recommendations: What should we do?***\n",
    "Based on a comprehensive analysis of the A/B test data, including Exploratory Data Analysis, Bootstrapping, Frequentist Hypothesis Testing (Z-test and Chi-squared), and Bayesian Analysis, and considering the test's power, we can draw the following conclusions and recommendations:\n",
    "\n",
    "*7-day Retention is Significantly Higher with Gate at Level 30*: Both the frequentist tests (Z-test p=0.0016, Chi-squared p=0.0014) and the Bayesian analysis (Posterior P(gate_30 > gate_40) = 99.94%) provide strong and consistent evidence that keeping the first gate at Level 30 leads to significantly better 7-day player retention compared to moving it to Level 40. This difference is statistically significant and highly probable.\n",
    "\n",
    "*1-day Retention shows a Strong Likelihood of Being Higher with Gate at Level 30*: While the frequentist tests for 1-day retention (p-values around 0.075) did not meet the conventional 0.05 significance threshold, the Bayesian analysis indicates a 96.35% probability that 1-day retention is indeed higher when the gate is at Level 30. This suggests a likely positive impact on short-term retention, even if it's not \"statistically significant\" by a strict alpha=0.05 criterion.\n",
    "\n",
    "*Test Robustness*: The power analysis confirmed that the A/B test had a large enough sample size (actual ~45,000 per group vs. calculated ~19,478 per group) to reliably detect a meaningful 2 percentage point uplift. This increases our confidence in the results and conclusions.\n",
    "\n",
    "**Overall Recommendation**: To maintain and maximize long-term player engagement and retention, it is strongly recommended NOT to move the first in-game gate from Level 30 to Level 40. Keeping the gate at Level 30 is crucial for keeping players engaged.\n",
    "\n",
    "*Why might an earlier gate be better for retention*?\n",
    "It might seem counterintuitive that an earlier obstacle could lead to better retention. One might expect players to engage longer if the obstacle is further into the game. However, the data suggests otherwise. A psychological concept called hedonic adaptation can offer an explanation. In simple terms, hedonic adaptation is the tendency for people to get less and less enjoyment from a fun activity if they do it continuously without breaks. By forcing players to take a break when they reach a gate at Level 30, their enjoyment of the game might be prolonged. If the gate is moved to Level 40, fewer players make it that far, and they could potentially quit the game because they simply got bored without an enforced break.\n",
    "\n",
    "**Further Considerations for the Game Developers**: It's important to note that a large portion of players (over 60% in both groups) did not even reach the first gate within 14 days of installing the game. This suggests that factors other than gate placement (e.g., initial tutorial, early game difficulty, marketing) also play a significant role in very early player churn.\n",
    "\n",
    "While retention is a primary metric, developers might also consider other factors for future tests, such as in-game purchases. However, without a strong player base (retention), in-game purchases will naturally decline."
   ]
  }
 ],
 "metadata": {
  "kernelspec": {
   "display_name": ".venv",
   "language": "python",
   "name": "python3"
  },
  "language_info": {
   "codemirror_mode": {
    "name": "ipython",
    "version": 3
   },
   "file_extension": ".py",
   "mimetype": "text/x-python",
   "name": "python",
   "nbconvert_exporter": "python",
   "pygments_lexer": "ipython3",
   "version": "3.12.2"
  }
 },
 "nbformat": 4,
 "nbformat_minor": 5
}
